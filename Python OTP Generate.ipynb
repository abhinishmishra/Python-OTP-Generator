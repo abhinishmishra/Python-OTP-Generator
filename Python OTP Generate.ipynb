{
 "cells": [
  {
   "cell_type": "code",
   "execution_count": 4,
   "id": "9a2d99f2-3340-42b6-8222-7ef6b8b77fab",
   "metadata": {},
   "outputs": [
    {
     "name": "stdout",
     "output_type": "stream",
     "text": [
      "Your OTP is: 4660\n"
     ]
    }
   ],
   "source": [
    "##  Python Project to Generate\n",
    "\n",
    "import random\n",
    "\n",
    "def generate_otp(length: int = 4) -> str:\n",
    "    if length <= 0:\n",
    "        raise ValueError(\"OTP length must be positive.\")\n",
    "    otp = ''.join([str(random.randint(0, 9)) for _ in range(length)])\n",
    "    return otp\n",
    "\n",
    "# Example usage\n",
    "otp = generate_otp()\n",
    "print(\"Your OTP is:\", otp)\n"
   ]
  },
  {
   "cell_type": "code",
   "execution_count": null,
   "id": "27bf5b6d-ba35-4a5b-9720-f51d64e517e9",
   "metadata": {},
   "outputs": [],
   "source": []
  },
  {
   "cell_type": "code",
   "execution_count": null,
   "id": "a63ef7ca-0afc-4842-8231-3da95be70455",
   "metadata": {},
   "outputs": [],
   "source": []
  }
 ],
 "metadata": {
  "kernelspec": {
   "display_name": "Python 3 (ipykernel)",
   "language": "python",
   "name": "python3"
  },
  "language_info": {
   "codemirror_mode": {
    "name": "ipython",
    "version": 3
   },
   "file_extension": ".py",
   "mimetype": "text/x-python",
   "name": "python",
   "nbconvert_exporter": "python",
   "pygments_lexer": "ipython3",
   "version": "3.13.5"
  }
 },
 "nbformat": 4,
 "nbformat_minor": 5
}
